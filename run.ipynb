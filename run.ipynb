{
 "cells": [
  {
   "cell_type": "code",
   "execution_count": 1,
   "id": "2ac9c307",
   "metadata": {},
   "outputs": [],
   "source": [
    "import os\n",
    "import requests\n",
    "import json\n",
    "\n",
    "COMMENT_URL = os.getenv('COMMENT_URL')\n",
    "HOST_URL = os.getenv('HOST_URL')\n",
    "\n",
    "COMMENT_URL = \"https://api.github.com/repos/rkskekzzz/80000coding_comment/issues/2/comments\"\n",
    "HOST_URL = \"https://80000coding.oopy.io/ddcdbb4d-461a-4a64-97b8-5040fc49c7d6\""
   ]
  },
  {
   "cell_type": "code",
   "execution_count": 25,
   "id": "aa4f2c9e",
   "metadata": {},
   "outputs": [
    {
     "name": "stdout",
     "output_type": "stream",
     "text": [
      "[{'url': 'https://api.github.com/repos/rkskekzzz/80000coding_comment/issues/comments/1192096317', 'html_url': 'https://github.com/rkskekzzz/80000coding_comment/issues/2#issuecomment-1192096317', 'issue_url': 'https://api.github.com/repos/rkskekzzz/80000coding_comment/issues/2', 'id': 1192096317, 'node_id': 'IC_kwDOHskyEM5HDfI9', 'user': {'login': 'rkskekzzz', 'id': 57925497, 'node_id': 'MDQ6VXNlcjU3OTI1NDk3', 'avatar_url': 'https://avatars.githubusercontent.com/u/57925497?v=4', 'gravatar_id': '', 'url': 'https://api.github.com/users/rkskekzzz', 'html_url': 'https://github.com/rkskekzzz', 'followers_url': 'https://api.github.com/users/rkskekzzz/followers', 'following_url': 'https://api.github.com/users/rkskekzzz/following{/other_user}', 'gists_url': 'https://api.github.com/users/rkskekzzz/gists{/gist_id}', 'starred_url': 'https://api.github.com/users/rkskekzzz/starred{/owner}{/repo}', 'subscriptions_url': 'https://api.github.com/users/rkskekzzz/subscriptions', 'organizations_url': 'https://api.github.com/users/rkskekzzz/orgs', 'repos_url': 'https://api.github.com/users/rkskekzzz/repos', 'events_url': 'https://api.github.com/users/rkskekzzz/events{/privacy}', 'received_events_url': 'https://api.github.com/users/rkskekzzz/received_events', 'type': 'User', 'site_admin': False}, 'created_at': '2022-07-22T01:46:30Z', 'updated_at': '2022-07-22T01:46:30Z', 'author_association': 'OWNER', 'body': '감사합니다!!!', 'reactions': {'url': 'https://api.github.com/repos/rkskekzzz/80000coding_comment/issues/comments/1192096317/reactions', 'total_count': 0, '+1': 0, '-1': 0, 'laugh': 0, 'hooray': 0, 'confused': 0, 'heart': 0, 'rocket': 0, 'eyes': 0}, 'performed_via_github_app': None}]\n",
      "https://80000coding.oopy.io/ddcdbb4d-461a-4a64-97b8-5040fc49c7d6\n"
     ]
    }
   ],
   "source": [
    "# print(COMMENT_URL)\n",
    "# print(HOST_URL)\n",
    "response = requests.request(\"GET\", COMMENT_URL,)\n",
    "responseJson = json.loads(response.text)\n",
    "print(responseJson)\n",
    "print(HOST_URL)"
   ]
  },
  {
   "cell_type": "code",
   "execution_count": 7,
   "id": "f46e3c81",
   "metadata": {},
   "outputs": [
    {
     "name": "stdout",
     "output_type": "stream",
     "text": [
      "감사합니다!!!\n",
      "rkskekzzz\n"
     ]
    }
   ],
   "source": [
    "BODY = responseJson[-1]['body'] \n",
    "SENDER =  responseJson[-1]['user']['login']\n",
    "print(BODY)\n",
    "print(SENDER)"
   ]
  },
  {
   "cell_type": "code",
   "execution_count": 8,
   "id": "38b28637",
   "metadata": {},
   "outputs": [
    {
     "name": "stdout",
     "output_type": "stream",
     "text": [
      "ddcdbb4d461a4a6497b85040fc49c7d6\n"
     ]
    }
   ],
   "source": [
    "DATABASE_ID = HOST_URL.split(\"/\")[-1].replace(\"-\",\"\")\n",
    "print(DATABASE_ID)"
   ]
  },
  {
   "cell_type": "code",
   "execution_count": 9,
   "id": "ca0192cf",
   "metadata": {},
   "outputs": [],
   "source": [
    "from dotenv import load_dotenv\n",
    "load_dotenv()\n",
    "my_bearer = os.getenv(\"BEARER\")\n",
    "apiUrl = \"https://api.notion.com/v1/comments\"\n",
    "headers = {\n",
    "    \"Authorization\": \"Bearer {}\".format(my_bearer),\n",
    "    \"Accept\": \"application/json\",\n",
    "    \"Notion-Version\": \"2022-02-22\",\n",
    "    \"Content-Type\": \"application/json\"\n",
    "}"
   ]
  },
  {
   "cell_type": "code",
   "execution_count": 26,
   "id": "a78d131e",
   "metadata": {},
   "outputs": [
    {
     "name": "stdout",
     "output_type": "stream",
     "text": [
      "{'object': 'comment', 'id': 'fceaece7-b9cd-4bab-aef9-b48a22c2db42', 'parent': {'type': 'page_id', 'page_id': 'ddcdbb4d-461a-4a64-97b8-5040fc49c7d6'}, 'discussion_id': '1e63457a-2745-4793-80a4-a04ae796a792', 'created_time': '2022-07-22T02:46:00.000Z', 'last_edited_time': '2022-07-22T02:46:00.000Z', 'created_by': {'object': 'user', 'id': '9ba6fa2c-5a3f-4904-9e89-171d00b004ff'}, 'rich_text': [{'type': 'text', 'text': {'content': '감사합니다!!!', 'link': None}, 'annotations': {'bold': False, 'italic': False, 'strikethrough': False, 'underline': False, 'code': False, 'color': 'default'}, 'plain_text': '감사합니다!!!', 'href': None}, {'type': 'text', 'text': {'content': '  by ', 'link': None}, 'annotations': {'bold': True, 'italic': True, 'strikethrough': False, 'underline': False, 'code': False, 'color': 'default'}, 'plain_text': '  by ', 'href': None}, {'type': 'text', 'text': {'content': 'rkskekzzz', 'link': {'url': 'https://github.com/rkskekzzz'}}, 'annotations': {'bold': True, 'italic': True, 'strikethrough': False, 'underline': False, 'code': False, 'color': 'default'}, 'plain_text': 'rkskekzzz', 'href': 'https://github.com/rkskekzzz'}, {'type': 'text', 'text': {'content': ' ', 'link': None}, 'annotations': {'bold': False, 'italic': False, 'strikethrough': False, 'underline': False, 'code': False, 'color': 'default'}, 'plain_text': ' ', 'href': None}, {'type': 'text', 'text': {'content': 'from oopy', 'link': {'url': 'https://80000coding.oopy.io/ddcdbb4d-461a-4a64-97b8-5040fc49c7d6'}}, 'annotations': {'bold': True, 'italic': False, 'strikethrough': False, 'underline': False, 'code': True, 'color': 'default'}, 'plain_text': 'from oopy', 'href': 'https://80000coding.oopy.io/ddcdbb4d-461a-4a64-97b8-5040fc49c7d6'}]}\n"
     ]
    }
   ],
   "source": [
    "def updateComment():\n",
    "    body = {\n",
    "        \"parent\": {\n",
    "            \"page_id\": DATABASE_ID\n",
    "        },\n",
    "        \"rich_text\": [\n",
    "            {\n",
    "                \"text\": {\n",
    "                    \"content\": BODY\n",
    "                }\n",
    "            },\n",
    "            {\n",
    "                \"text\": {\n",
    "                    \"content\": \"  by \",\n",
    "                },\n",
    "                \"annotations\": {\n",
    "                    \"bold\": True,\n",
    "                    \"italic\" : True\n",
    "                }\n",
    "            },\n",
    "            {\n",
    "                \"text\": {\n",
    "                    \"content\": SENDER,\n",
    "                    \"link\": {\n",
    "                        \"url\" : \"https://github.com/\" + SENDER\n",
    "                    }\n",
    "                },\n",
    "                \"annotations\": {\n",
    "                    \"bold\": True,\n",
    "                    \"italic\" : True\n",
    "                }\n",
    "            },\n",
    "            {\n",
    "                \"text\": {\n",
    "                    \"content\": \" \",\n",
    "                },\n",
    "            },\n",
    "            {\n",
    "                \"text\": {\n",
    "                    \"content\": \"from oopy\",\n",
    "                    \"link\": {\n",
    "                        \"url\" : \"https://80000coding.oopy.io/ddcdbb4d-461a-4a64-97b8-5040fc49c7d6\"\n",
    "                    }\n",
    "                },\n",
    "                \"annotations\": {\n",
    "                    \"bold\": True,\n",
    "                    \"code\" : True\n",
    "                }\n",
    "            }\n",
    "        ]\n",
    "    }\n",
    "    response = requests.request(\"POST\", apiUrl, headers=headers, data=json.dumps(body))\n",
    "    responseJson = json.loads(response.text)\n",
    "    print(responseJson)\n",
    "    \n",
    "updateComment()"
   ]
  },
  {
   "cell_type": "code",
   "execution_count": null,
   "id": "fe88db12",
   "metadata": {},
   "outputs": [],
   "source": []
  },
  {
   "cell_type": "code",
   "execution_count": null,
   "id": "726b94b7",
   "metadata": {},
   "outputs": [],
   "source": []
  }
 ],
 "metadata": {
  "kernelspec": {
   "display_name": "Python 3.9.12 64-bit",
   "language": "python",
   "name": "python3"
  },
  "language_info": {
   "codemirror_mode": {
    "name": "ipython",
    "version": 3
   },
   "file_extension": ".py",
   "mimetype": "text/x-python",
   "name": "python",
   "nbconvert_exporter": "python",
   "pygments_lexer": "ipython3",
   "version": "3.9.12"
  },
  "vscode": {
   "interpreter": {
    "hash": "aee8b7b246df8f9039afb4144a1f6fd8d2ca17a180786b69acc140d282b71a49"
   }
  }
 },
 "nbformat": 4,
 "nbformat_minor": 5
}
